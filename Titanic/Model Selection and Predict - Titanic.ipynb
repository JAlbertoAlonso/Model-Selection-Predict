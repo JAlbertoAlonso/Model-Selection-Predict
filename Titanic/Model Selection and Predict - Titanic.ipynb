{
 "cells": [
  {
   "cell_type": "markdown",
   "id": "85e28022",
   "metadata": {},
   "source": [
    "# Model Selection and Predict with Python"
   ]
  },
  {
   "cell_type": "markdown",
   "id": "7ad9c2b1",
   "metadata": {},
   "source": [
    "### Description:\n",
    "**In this Notebook it will describe the creation and selection process of a survival prediction model based on the Titanic sink data.**"
   ]
  },
  {
   "cell_type": "markdown",
   "id": "08f623b7",
   "metadata": {},
   "source": [
    "### Targets:\n",
    "* Perform an Extraction, Transformation and Loading of data to be used.\n",
    "* Discovery of features correlated to prediction labels.\n",
    "* Find the best model and fit for label prediction.\n",
    "* Obtain the best predictions possible."
   ]
  },
  {
   "cell_type": "markdown",
   "id": "0bd6842c",
   "metadata": {},
   "source": [
    "## 1. Library importation"
   ]
  },
  {
   "cell_type": "code",
   "execution_count": 38,
   "id": "cadd1fc2",
   "metadata": {},
   "outputs": [],
   "source": [
    "import numpy as np\n",
    "import pandas as pd\n",
    "\n",
    "import matplotlib.pyplot as plt\n",
    "%matplotlib inline\n",
    "import seaborn as sns\n",
    "sns.set_style('whitegrid')\n",
    "\n",
    "from sklearn.model_selection import train_test_split as tts\n",
    "from sklearn.preprocessing import StandardScaler as SS\n",
    "from sklearn.pipeline import Pipeline\n",
    "from sklearn.metrics import confusion_matrix as cm\n",
    "from sklearn.metrics import ConfusionMatrixDisplay as cmd\n",
    "from sklearn.metrics import classification_report as cr\n",
    "from sklearn.linear_model import LogisticRegression as LogR\n",
    "from sklearn.neighbors import KNeighborsClassifier as KNC\n",
    "from sklearn.tree import DecisionTreeClassifier as DTC\n",
    "from sklearn.ensemble import RandomForestClassifier as RFC\n",
    "from sklearn.svm import SVC\n",
    "from sklearn.model_selection import GridSearchCV as GSCV"
   ]
  },
  {
   "cell_type": "markdown",
   "id": "36f0e187",
   "metadata": {},
   "source": [
    "## 2. Load and Information of the Data"
   ]
  },
  {
   "cell_type": "code",
   "execution_count": 39,
   "id": "e0164017",
   "metadata": {},
   "outputs": [],
   "source": [
    "train = pd.read_csv(\"titanic_train.csv\")\n",
    "test = pd.read_csv(\"titanic_test.csv\")"
   ]
  },
  {
   "cell_type": "code",
   "execution_count": 8,
   "id": "0a0d001b",
   "metadata": {},
   "outputs": [
    {
     "name": "stdout",
     "output_type": "stream",
     "text": [
      "<class 'pandas.core.frame.DataFrame'>\n",
      "RangeIndex: 891 entries, 0 to 890\n",
      "Data columns (total 12 columns):\n",
      " #   Column       Non-Null Count  Dtype  \n",
      "---  ------       --------------  -----  \n",
      " 0   PassengerId  891 non-null    int64  \n",
      " 1   Survived     891 non-null    int64  \n",
      " 2   Pclass       891 non-null    int64  \n",
      " 3   Name         891 non-null    object \n",
      " 4   Sex          891 non-null    object \n",
      " 5   Age          714 non-null    float64\n",
      " 6   SibSp        891 non-null    int64  \n",
      " 7   Parch        891 non-null    int64  \n",
      " 8   Ticket       891 non-null    object \n",
      " 9   Fare         891 non-null    float64\n",
      " 10  Cabin        204 non-null    object \n",
      " 11  Embarked     889 non-null    object \n",
      "dtypes: float64(2), int64(5), object(5)\n",
      "memory usage: 83.7+ KB\n"
     ]
    }
   ],
   "source": [
    "train.info()"
   ]
  },
  {
   "cell_type": "code",
   "execution_count": 9,
   "id": "79bb1d88",
   "metadata": {},
   "outputs": [
    {
     "data": {
      "text/html": [
       "<div>\n",
       "<style scoped>\n",
       "    .dataframe tbody tr th:only-of-type {\n",
       "        vertical-align: middle;\n",
       "    }\n",
       "\n",
       "    .dataframe tbody tr th {\n",
       "        vertical-align: top;\n",
       "    }\n",
       "\n",
       "    .dataframe thead th {\n",
       "        text-align: right;\n",
       "    }\n",
       "</style>\n",
       "<table border=\"1\" class=\"dataframe\">\n",
       "  <thead>\n",
       "    <tr style=\"text-align: right;\">\n",
       "      <th></th>\n",
       "      <th>PassengerId</th>\n",
       "      <th>Survived</th>\n",
       "      <th>Pclass</th>\n",
       "      <th>Name</th>\n",
       "      <th>Sex</th>\n",
       "      <th>Age</th>\n",
       "      <th>SibSp</th>\n",
       "      <th>Parch</th>\n",
       "      <th>Ticket</th>\n",
       "      <th>Fare</th>\n",
       "      <th>Cabin</th>\n",
       "      <th>Embarked</th>\n",
       "    </tr>\n",
       "  </thead>\n",
       "  <tbody>\n",
       "    <tr>\n",
       "      <th>0</th>\n",
       "      <td>1</td>\n",
       "      <td>0</td>\n",
       "      <td>3</td>\n",
       "      <td>Braund, Mr. Owen Harris</td>\n",
       "      <td>male</td>\n",
       "      <td>22.0</td>\n",
       "      <td>1</td>\n",
       "      <td>0</td>\n",
       "      <td>A/5 21171</td>\n",
       "      <td>7.2500</td>\n",
       "      <td>NaN</td>\n",
       "      <td>S</td>\n",
       "    </tr>\n",
       "    <tr>\n",
       "      <th>1</th>\n",
       "      <td>2</td>\n",
       "      <td>1</td>\n",
       "      <td>1</td>\n",
       "      <td>Cumings, Mrs. John Bradley (Florence Briggs Th...</td>\n",
       "      <td>female</td>\n",
       "      <td>38.0</td>\n",
       "      <td>1</td>\n",
       "      <td>0</td>\n",
       "      <td>PC 17599</td>\n",
       "      <td>71.2833</td>\n",
       "      <td>C85</td>\n",
       "      <td>C</td>\n",
       "    </tr>\n",
       "    <tr>\n",
       "      <th>2</th>\n",
       "      <td>3</td>\n",
       "      <td>1</td>\n",
       "      <td>3</td>\n",
       "      <td>Heikkinen, Miss. Laina</td>\n",
       "      <td>female</td>\n",
       "      <td>26.0</td>\n",
       "      <td>0</td>\n",
       "      <td>0</td>\n",
       "      <td>STON/O2. 3101282</td>\n",
       "      <td>7.9250</td>\n",
       "      <td>NaN</td>\n",
       "      <td>S</td>\n",
       "    </tr>\n",
       "    <tr>\n",
       "      <th>3</th>\n",
       "      <td>4</td>\n",
       "      <td>1</td>\n",
       "      <td>1</td>\n",
       "      <td>Futrelle, Mrs. Jacques Heath (Lily May Peel)</td>\n",
       "      <td>female</td>\n",
       "      <td>35.0</td>\n",
       "      <td>1</td>\n",
       "      <td>0</td>\n",
       "      <td>113803</td>\n",
       "      <td>53.1000</td>\n",
       "      <td>C123</td>\n",
       "      <td>S</td>\n",
       "    </tr>\n",
       "    <tr>\n",
       "      <th>4</th>\n",
       "      <td>5</td>\n",
       "      <td>0</td>\n",
       "      <td>3</td>\n",
       "      <td>Allen, Mr. William Henry</td>\n",
       "      <td>male</td>\n",
       "      <td>35.0</td>\n",
       "      <td>0</td>\n",
       "      <td>0</td>\n",
       "      <td>373450</td>\n",
       "      <td>8.0500</td>\n",
       "      <td>NaN</td>\n",
       "      <td>S</td>\n",
       "    </tr>\n",
       "  </tbody>\n",
       "</table>\n",
       "</div>"
      ],
      "text/plain": [
       "   PassengerId  Survived  Pclass  \\\n",
       "0            1         0       3   \n",
       "1            2         1       1   \n",
       "2            3         1       3   \n",
       "3            4         1       1   \n",
       "4            5         0       3   \n",
       "\n",
       "                                                Name     Sex   Age  SibSp  \\\n",
       "0                            Braund, Mr. Owen Harris    male  22.0      1   \n",
       "1  Cumings, Mrs. John Bradley (Florence Briggs Th...  female  38.0      1   \n",
       "2                             Heikkinen, Miss. Laina  female  26.0      0   \n",
       "3       Futrelle, Mrs. Jacques Heath (Lily May Peel)  female  35.0      1   \n",
       "4                           Allen, Mr. William Henry    male  35.0      0   \n",
       "\n",
       "   Parch            Ticket     Fare Cabin Embarked  \n",
       "0      0         A/5 21171   7.2500   NaN        S  \n",
       "1      0          PC 17599  71.2833   C85        C  \n",
       "2      0  STON/O2. 3101282   7.9250   NaN        S  \n",
       "3      0            113803  53.1000  C123        S  \n",
       "4      0            373450   8.0500   NaN        S  "
      ]
     },
     "execution_count": 9,
     "metadata": {},
     "output_type": "execute_result"
    }
   ],
   "source": [
    "train.head()"
   ]
  },
  {
   "cell_type": "markdown",
   "id": "384a669a",
   "metadata": {},
   "source": [
    "#### Description of Data Fields"
   ]
  },
  {
   "cell_type": "markdown",
   "id": "df06b068",
   "metadata": {},
   "source": [
    "* Survival - Survival. 0 = No, 1 = Yes\n",
    "* Pclass - Ticket class. 1 = 1st, 2 = 2nd, 3 = 3rd\n",
    "* Sex - Sex.\n",
    "* Age - Age in years.\n",
    "* SibSp - Number of siblings / spouses aboard the Titanic.\n",
    "* Parch - Number of parents / children aboard the Titanic.\n",
    "* Ticket - Ticket number.\n",
    "* Fare - Passenger fare.\n",
    "* Cabin - Cabin number.\n",
    "* Embarked - Port of Embarkation. C = Cherbourg, Q = Queenstown, S = Southampton"
   ]
  },
  {
   "cell_type": "markdown",
   "id": "9b2da492",
   "metadata": {},
   "source": [
    "## 3. Exploratory Data Analysis"
   ]
  },
  {
   "cell_type": "code",
   "execution_count": 10,
   "id": "5e0d311a",
   "metadata": {},
   "outputs": [
    {
     "data": {
      "text/plain": [
       "[Text(0.5, 1.0, 'Existent data (purple) and missing data (yellow) ratio')]"
      ]
     },
     "execution_count": 10,
     "metadata": {},
     "output_type": "execute_result"
    },
    {
     "data": {
      "image/png": "[encoded data removed]",
      "text/plain": [
       "<Figure size 432x288 with 1 Axes>"
      ]
     },
     "metadata": {},
     "output_type": "display_data"
    }
   ],
   "source": [
    "# Detection of missing data.\n",
    "sns.heatmap(train.isnull(), yticklabels=False, cbar=False, cmap='viridis').set(title = 'Existent data (purple) and missing data (yellow) ratio')"
   ]
  },
  {
   "cell_type": "code",
   "execution_count": 6,
   "id": "82473992",
   "metadata": {},
   "outputs": [
    {
     "data": {
      "text/plain": [
       "[Text(0.5, 1.0, 'Count of Survivors')]"
      ]
     },
     "execution_count": 6,
     "metadata": {},
     "output_type": "execute_result"
    },
    {
     "data": {
      "image/png": "[encoded data removed]",
      "text/plain": [
       "<Figure size 432x288 with 1 Axes>"
      ]
     },
     "metadata": {},
     "output_type": "display_data"
    }
   ],
   "source": [
    "sns.countplot(x='Survived',data=train,palette='Set1', alpha=0.9).set(title = 'Count of Survivors')"
   ]
  },
  {
   "cell_type": "code",
   "execution_count": 7,
   "id": "37a74d17",
   "metadata": {},
   "outputs": [
    {
     "data": {
      "text/plain": [
       "[Text(0.5, 1.0, 'Survivors per sex')]"
      ]
     },
     "execution_count": 7,
     "metadata": {},
     "output_type": "execute_result"
    },
    {
     "data": {
      "image/png": "[encoded data removed]",
      "text/plain": [
       "<Figure size 432x288 with 1 Axes>"
      ]
     },
     "metadata": {},
     "output_type": "display_data"
    }
   ],
   "source": [
    "sns.countplot(x='Survived', hue='Sex', data=train, palette='Set1', alpha=0.9).set(title = 'Survivors per sex')"
   ]
  },
  {
   "cell_type": "code",
   "execution_count": 8,
   "id": "70821378",
   "metadata": {},
   "outputs": [
    {
     "data": {
      "text/plain": [
       "[Text(0.5, 1.0, 'Survivors per class ticket')]"
      ]
     },
     "execution_count": 8,
     "metadata": {},
     "output_type": "execute_result"
    },
    {
     "data": {
      "image/png": "[encoded data removed]",
      "text/plain": [
       "<Figure size 432x288 with 1 Axes>"
      ]
     },
     "metadata": {},
     "output_type": "display_data"
    }
   ],
   "source": [
    "sns.countplot(x='Survived', hue='Pclass', data=train, palette='Set1', alpha=0.9).set(title = 'Survivors per class ticket')"
   ]
  },
  {
   "cell_type": "code",
   "execution_count": 9,
   "id": "521fcdf2",
   "metadata": {},
   "outputs": [
    {
     "data": {
      "text/plain": [
       "[Text(0.5, 1.0, 'People Ages Count')]"
      ]
     },
     "execution_count": 9,
     "metadata": {},
     "output_type": "execute_result"
    },
    {
     "data": {
      "image/png": "[encoded data removed]",
      "text/plain": [
       "<Figure size 432x288 with 1 Axes>"
      ]
     },
     "metadata": {},
     "output_type": "display_data"
    }
   ],
   "source": [
    "sns.histplot(train['Age'].dropna(), kde=False, color='darkred', bins=30, alpha=0.7).set(title = 'People Ages Count')"
   ]
  },
  {
   "cell_type": "code",
   "execution_count": 10,
   "id": "d5b043f1",
   "metadata": {},
   "outputs": [
    {
     "data": {
      "text/plain": [
       "<seaborn.axisgrid.FacetGrid at 0x1e2e746ce20>"
      ]
     },
     "execution_count": 10,
     "metadata": {},
     "output_type": "execute_result"
    },
    {
     "data": {
      "image/png": "[encoded data removed]",
      "text/plain": [
       "<Figure size 767x360 with 2 Axes>"
      ]
     },
     "metadata": {},
     "output_type": "display_data"
    }
   ],
   "source": [
    "g = sns.FacetGrid(data=train.dropna(), col='Survived', palette='Set1', hue='Survived', height=5)\n",
    "g.map(sns.histplot, 'Age', kde=True, bins=20, alpha=0.9)\n",
    "g.add_legend()"
   ]
  },
  {
   "cell_type": "code",
   "execution_count": 11,
   "id": "46bcce11",
   "metadata": {
    "scrolled": true
   },
   "outputs": [
    {
     "data": {
      "text/plain": [
       "[Text(0.5, 1.0, 'Survivors per number of siblings / spouses aboard the Titanic')]"
      ]
     },
     "execution_count": 11,
     "metadata": {},
     "output_type": "execute_result"
    },
    {
     "data": {
      "image/png": "[encoded data removed]",
      "text/plain": [
       "<Figure size 432x288 with 1 Axes>"
      ]
     },
     "metadata": {},
     "output_type": "display_data"
    }
   ],
   "source": [
    "sns.countplot(x='SibSp',data=train, palette='Set1', alpha=0.9).set(title = 'Survivors per number of siblings / spouses aboard the Titanic')"
   ]
  },
  {
   "cell_type": "code",
   "execution_count": 12,
   "id": "16ec0221",
   "metadata": {},
   "outputs": [
    {
     "data": {
      "image/png": "[encoded data removed]",
      "text/plain": [
       "<Figure size 936x288 with 3 Axes>"
      ]
     },
     "metadata": {},
     "output_type": "display_data"
    }
   ],
   "source": [
    "a = []\n",
    "for i in train['Cabin'].dropna():\n",
    "    a.append(i[0])\n",
    "\n",
    "    \n",
    "cabin = train[['Survived', 'Fare', 'Pclass', 'Cabin']].dropna()[['Survived', 'Fare', 'Pclass']]\n",
    "cabin['Cabin Section'] = a\n",
    "survivals = cabin.groupby('Cabin Section').sum()['Survived'].reset_index()\n",
    "fares = cabin.groupby('Cabin Section').mean()['Fare'].reset_index()\n",
    "classes = cabin[['Pclass', 'Cabin Section']].sort_values(by=['Cabin Section'])\n",
    "\n",
    "\n",
    "fig, axes = plt.subplots(nrows=1, ncols=3, figsize=(13,4))\n",
    "\n",
    "# Cabin Section vs Survivors\n",
    "axes[0].set_title('Number of Survivors per Cabin Section')\n",
    "sns.barplot(ax=axes[0], data=survivals, x='Cabin Section', y='Survived', palette='Set1', alpha=0.9)\n",
    "\n",
    "# Cabin Section vs Fare\n",
    "axes[1].set_title('Fare Average per Cabin Section')\n",
    "sns.barplot(ax=axes[1], data=fares, x='Cabin Section', y='Fare', palette='Set1', alpha=0.9)\n",
    "\n",
    "# Cabin Section vs Pclass\n",
    "axes[2].set_title('Ticket Class per Cabin Section')\n",
    "sns.countplot(ax=axes[2], data=classes, x='Cabin Section', hue='Pclass', palette='Set1', alpha=0.9)\n",
    "plt.legend(loc='upper right', title='Pclass')\n",
    "\n",
    "plt.tight_layout()"
   ]
  },
  {
   "cell_type": "markdown",
   "id": "b6c72c97",
   "metadata": {},
   "source": [
    "## 4. Data Cleaning "
   ]
  },
  {
   "cell_type": "code",
   "execution_count": 13,
   "id": "e4e91135",
   "metadata": {},
   "outputs": [
    {
     "data": {
      "text/plain": [
       "[Text(0.5, 1.0, 'Existent data (purple) and missing data (yellow) ratio')]"
      ]
     },
     "execution_count": 13,
     "metadata": {},
     "output_type": "execute_result"
    },
    {
     "data": {
      "image/png": "[encoded data removed]",
      "text/plain": [
       "<Figure size 432x288 with 1 Axes>"
      ]
     },
     "metadata": {},
     "output_type": "display_data"
    }
   ],
   "source": [
    "sns.heatmap(train.isnull(), yticklabels=False, cbar=False, cmap='viridis').set(title = 'Existent data (purple) and missing data (yellow) ratio')"
   ]
  },
  {
   "cell_type": "markdown",
   "id": "cd4abc2e",
   "metadata": {},
   "source": [
    "### 4.1 Age column"
   ]
  },
  {
   "cell_type": "code",
   "execution_count": 14,
   "id": "294d5187",
   "metadata": {},
   "outputs": [
    {
     "data": {
      "text/plain": [
       "[Text(0.5, 1.0, 'Box Plot of Ages regard to the Ticket Class')]"
      ]
     },
     "execution_count": 14,
     "metadata": {},
     "output_type": "execute_result"
    },
    {
     "data": {
      "image/png": "[encoded data removed]",
      "text/plain": [
       "<Figure size 720x360 with 1 Axes>"
      ]
     },
     "metadata": {},
     "output_type": "display_data"
    }
   ],
   "source": [
    "plt.figure(figsize=(10,5))\n",
    "sns.boxplot(x='Pclass', y='Age', data=train, palette='Set1').set(title = 'Box Plot of Ages regard to the Ticket Class')"
   ]
  },
  {
   "cell_type": "code",
   "execution_count": 15,
   "id": "3508e2ce",
   "metadata": {},
   "outputs": [
    {
     "data": {
      "text/plain": [
       "Pclass\n",
       "1    38.0\n",
       "2    30.0\n",
       "3    25.0\n",
       "Name: Age, dtype: float64"
      ]
     },
     "execution_count": 15,
     "metadata": {},
     "output_type": "execute_result"
    }
   ],
   "source": [
    "train.groupby('Pclass').mean().round()['Age']"
   ]
  },
  {
   "cell_type": "code",
   "execution_count": 11,
   "id": "eea976e2",
   "metadata": {},
   "outputs": [],
   "source": [
    "def fill_age(cols):\n",
    "    \"\"\"\n",
    "    Imputation function for the column 'Age' regard to the average ages for each ticket class.\n",
    "    \"\"\"\n",
    "    age = cols[0]\n",
    "    p_class = cols[1]\n",
    "    \n",
    "    if pd.isnull(age):\n",
    "        if p_class == 1:\n",
    "            return 38\n",
    "        elif p_class == 2:\n",
    "            return 30\n",
    "        else:\n",
    "            return 25\n",
    "    else:\n",
    "        return age"
   ]
  },
  {
   "cell_type": "code",
   "execution_count": 12,
   "id": "ab5dff23",
   "metadata": {},
   "outputs": [],
   "source": [
    "# Imputation of the \"Age\" column.\n",
    "train['Age'] = train[['Age','Pclass']].apply(fill_age, axis=1)"
   ]
  },
  {
   "cell_type": "markdown",
   "id": "8ee51a46",
   "metadata": {},
   "source": [
    "### 4.2 Cabin column"
   ]
  },
  {
   "cell_type": "code",
   "execution_count": 18,
   "id": "d58b1855",
   "metadata": {},
   "outputs": [
    {
     "data": {
      "text/plain": [
       "[Text(0.5, 1.0, 'Existent data (purple) and missing data (yellow) ratio')]"
      ]
     },
     "execution_count": 18,
     "metadata": {},
     "output_type": "execute_result"
    },
    {
     "data": {
      "image/png": "[encoded data removed]",
      "text/plain": [
       "<Figure size 432x288 with 1 Axes>"
      ]
     },
     "metadata": {},
     "output_type": "display_data"
    }
   ],
   "source": [
    "sns.heatmap(train.isnull(), yticklabels=False, cbar=False, cmap='viridis').set(title = 'Existent data (purple) and missing data (yellow) ratio')"
   ]
  },
  {
   "cell_type": "code",
   "execution_count": 13,
   "id": "49b53253",
   "metadata": {},
   "outputs": [
    {
     "data": {
      "text/plain": [
       "[Text(0.5, 1.0, 'Existent data (purple) and missing data (yellow) ratio')]"
      ]
     },
     "execution_count": 13,
     "metadata": {},
     "output_type": "execute_result"
    },
    {
     "data": {
      "image/png": "[encoded data removed]",
      "text/plain": [
       "<Figure size 432x288 with 1 Axes>"
      ]
     },
     "metadata": {},
     "output_type": "display_data"
    }
   ],
   "source": [
    "# Elimination the \"Cabin\" column.\n",
    "train.drop('Cabin', axis=1, inplace=True)\n",
    "sns.heatmap(train.isnull(), yticklabels=False, cbar=False, cmap='viridis').set(title = 'Existent data (purple) and missing data (yellow) ratio')"
   ]
  },
  {
   "cell_type": "markdown",
   "id": "f0a09bef",
   "metadata": {},
   "source": [
    "### 4.3 Embarked column"
   ]
  },
  {
   "cell_type": "code",
   "execution_count": 14,
   "id": "273ab5b8",
   "metadata": {},
   "outputs": [
    {
     "data": {
      "text/plain": [
       "[Text(0.5, 1.0, 'Existent data (purple) and missing data (yellow) ratio')]"
      ]
     },
     "execution_count": 14,
     "metadata": {},
     "output_type": "execute_result"
    },
    {
     "data": {
      "image/png": "[encoded data removed]",
      "text/plain": [
       "<Figure size 432x288 with 1 Axes>"
      ]
     },
     "metadata": {},
     "output_type": "display_data"
    }
   ],
   "source": [
    "# Elimination of the missing datum in the Emkarked row.\n",
    "train.dropna(inplace=True)\n",
    "sns.heatmap(train.isnull(), yticklabels=False, cbar=False, cmap='viridis').set(title = 'Existent data (purple) and missing data (yellow) ratio')"
   ]
  },
  {
   "cell_type": "code",
   "execution_count": 21,
   "id": "d1268723",
   "metadata": {},
   "outputs": [
    {
     "data": {
      "text/html": [
       "<div>\n",
       "<style scoped>\n",
       "    .dataframe tbody tr th:only-of-type {\n",
       "        vertical-align: middle;\n",
       "    }\n",
       "\n",
       "    .dataframe tbody tr th {\n",
       "        vertical-align: top;\n",
       "    }\n",
       "\n",
       "    .dataframe thead th {\n",
       "        text-align: right;\n",
       "    }\n",
       "</style>\n",
       "<table border=\"1\" class=\"dataframe\">\n",
       "  <thead>\n",
       "    <tr style=\"text-align: right;\">\n",
       "      <th></th>\n",
       "      <th>PassengerId</th>\n",
       "      <th>Survived</th>\n",
       "      <th>Pclass</th>\n",
       "      <th>Name</th>\n",
       "      <th>Sex</th>\n",
       "      <th>Age</th>\n",
       "      <th>SibSp</th>\n",
       "      <th>Parch</th>\n",
       "      <th>Ticket</th>\n",
       "      <th>Fare</th>\n",
       "      <th>Embarked</th>\n",
       "    </tr>\n",
       "  </thead>\n",
       "  <tbody>\n",
       "    <tr>\n",
       "      <th>0</th>\n",
       "      <td>1</td>\n",
       "      <td>0</td>\n",
       "      <td>3</td>\n",
       "      <td>Braund, Mr. Owen Harris</td>\n",
       "      <td>male</td>\n",
       "      <td>22.0</td>\n",
       "      <td>1</td>\n",
       "      <td>0</td>\n",
       "      <td>A/5 21171</td>\n",
       "      <td>7.2500</td>\n",
       "      <td>S</td>\n",
       "    </tr>\n",
       "    <tr>\n",
       "      <th>1</th>\n",
       "      <td>2</td>\n",
       "      <td>1</td>\n",
       "      <td>1</td>\n",
       "      <td>Cumings, Mrs. John Bradley (Florence Briggs Th...</td>\n",
       "      <td>female</td>\n",
       "      <td>38.0</td>\n",
       "      <td>1</td>\n",
       "      <td>0</td>\n",
       "      <td>PC 17599</td>\n",
       "      <td>71.2833</td>\n",
       "      <td>C</td>\n",
       "    </tr>\n",
       "    <tr>\n",
       "      <th>2</th>\n",
       "      <td>3</td>\n",
       "      <td>1</td>\n",
       "      <td>3</td>\n",
       "      <td>Heikkinen, Miss. Laina</td>\n",
       "      <td>female</td>\n",
       "      <td>26.0</td>\n",
       "      <td>0</td>\n",
       "      <td>0</td>\n",
       "      <td>STON/O2. 3101282</td>\n",
       "      <td>7.9250</td>\n",
       "      <td>S</td>\n",
       "    </tr>\n",
       "    <tr>\n",
       "      <th>3</th>\n",
       "      <td>4</td>\n",
       "      <td>1</td>\n",
       "      <td>1</td>\n",
       "      <td>Futrelle, Mrs. Jacques Heath (Lily May Peel)</td>\n",
       "      <td>female</td>\n",
       "      <td>35.0</td>\n",
       "      <td>1</td>\n",
       "      <td>0</td>\n",
       "      <td>113803</td>\n",
       "      <td>53.1000</td>\n",
       "      <td>S</td>\n",
       "    </tr>\n",
       "    <tr>\n",
       "      <th>4</th>\n",
       "      <td>5</td>\n",
       "      <td>0</td>\n",
       "      <td>3</td>\n",
       "      <td>Allen, Mr. William Henry</td>\n",
       "      <td>male</td>\n",
       "      <td>35.0</td>\n",
       "      <td>0</td>\n",
       "      <td>0</td>\n",
       "      <td>373450</td>\n",
       "      <td>8.0500</td>\n",
       "      <td>S</td>\n",
       "    </tr>\n",
       "  </tbody>\n",
       "</table>\n",
       "</div>"
      ],
      "text/plain": [
       "   PassengerId  Survived  Pclass  \\\n",
       "0            1         0       3   \n",
       "1            2         1       1   \n",
       "2            3         1       3   \n",
       "3            4         1       1   \n",
       "4            5         0       3   \n",
       "\n",
       "                                                Name     Sex   Age  SibSp  \\\n",
       "0                            Braund, Mr. Owen Harris    male  22.0      1   \n",
       "1  Cumings, Mrs. John Bradley (Florence Briggs Th...  female  38.0      1   \n",
       "2                             Heikkinen, Miss. Laina  female  26.0      0   \n",
       "3       Futrelle, Mrs. Jacques Heath (Lily May Peel)  female  35.0      1   \n",
       "4                           Allen, Mr. William Henry    male  35.0      0   \n",
       "\n",
       "   Parch            Ticket     Fare Embarked  \n",
       "0      0         A/5 21171   7.2500        S  \n",
       "1      0          PC 17599  71.2833        C  \n",
       "2      0  STON/O2. 3101282   7.9250        S  \n",
       "3      0            113803  53.1000        S  \n",
       "4      0            373450   8.0500        S  "
      ]
     },
     "execution_count": 21,
     "metadata": {},
     "output_type": "execute_result"
    }
   ],
   "source": [
    "train.head()"
   ]
  },
  {
   "cell_type": "markdown",
   "id": "c4351d15",
   "metadata": {},
   "source": [
    "## 5. Converting Categorical Features"
   ]
  },
  {
   "cell_type": "code",
   "execution_count": 22,
   "id": "9b8e23d7",
   "metadata": {},
   "outputs": [
    {
     "name": "stdout",
     "output_type": "stream",
     "text": [
      "<class 'pandas.core.frame.DataFrame'>\n",
      "Int64Index: 889 entries, 0 to 890\n",
      "Data columns (total 11 columns):\n",
      " #   Column       Non-Null Count  Dtype  \n",
      "---  ------       --------------  -----  \n",
      " 0   PassengerId  889 non-null    int64  \n",
      " 1   Survived     889 non-null    int64  \n",
      " 2   Pclass       889 non-null    int64  \n",
      " 3   Name         889 non-null    object \n",
      " 4   Sex          889 non-null    object \n",
      " 5   Age          889 non-null    float64\n",
      " 6   SibSp        889 non-null    int64  \n",
      " 7   Parch        889 non-null    int64  \n",
      " 8   Ticket       889 non-null    object \n",
      " 9   Fare         889 non-null    float64\n",
      " 10  Embarked     889 non-null    object \n",
      "dtypes: float64(2), int64(5), object(4)\n",
      "memory usage: 83.3+ KB\n"
     ]
    }
   ],
   "source": [
    "train.info()"
   ]
  },
  {
   "cell_type": "code",
   "execution_count": 15,
   "id": "3f8be927",
   "metadata": {},
   "outputs": [],
   "source": [
    "sex = pd.get_dummies(train['Sex'], drop_first=True)\n",
    "embarked = pd.get_dummies(train['Embarked'], drop_first=True)"
   ]
  },
  {
   "cell_type": "code",
   "execution_count": 16,
   "id": "b256a93e",
   "metadata": {},
   "outputs": [
    {
     "data": {
      "text/html": [
       "<div>\n",
       "<style scoped>\n",
       "    .dataframe tbody tr th:only-of-type {\n",
       "        vertical-align: middle;\n",
       "    }\n",
       "\n",
       "    .dataframe tbody tr th {\n",
       "        vertical-align: top;\n",
       "    }\n",
       "\n",
       "    .dataframe thead th {\n",
       "        text-align: right;\n",
       "    }\n",
       "</style>\n",
       "<table border=\"1\" class=\"dataframe\">\n",
       "  <thead>\n",
       "    <tr style=\"text-align: right;\">\n",
       "      <th></th>\n",
       "      <th>PassengerId</th>\n",
       "      <th>Survived</th>\n",
       "      <th>Pclass</th>\n",
       "      <th>Name</th>\n",
       "      <th>Sex</th>\n",
       "      <th>Age</th>\n",
       "      <th>SibSp</th>\n",
       "      <th>Parch</th>\n",
       "      <th>Ticket</th>\n",
       "      <th>Fare</th>\n",
       "      <th>Embarked</th>\n",
       "      <th>male</th>\n",
       "      <th>Q</th>\n",
       "      <th>S</th>\n",
       "    </tr>\n",
       "  </thead>\n",
       "  <tbody>\n",
       "    <tr>\n",
       "      <th>0</th>\n",
       "      <td>1</td>\n",
       "      <td>0</td>\n",
       "      <td>3</td>\n",
       "      <td>Braund, Mr. Owen Harris</td>\n",
       "      <td>male</td>\n",
       "      <td>22.0</td>\n",
       "      <td>1</td>\n",
       "      <td>0</td>\n",
       "      <td>A/5 21171</td>\n",
       "      <td>7.2500</td>\n",
       "      <td>S</td>\n",
       "      <td>1</td>\n",
       "      <td>0</td>\n",
       "      <td>1</td>\n",
       "    </tr>\n",
       "    <tr>\n",
       "      <th>1</th>\n",
       "      <td>2</td>\n",
       "      <td>1</td>\n",
       "      <td>1</td>\n",
       "      <td>Cumings, Mrs. John Bradley (Florence Briggs Th...</td>\n",
       "      <td>female</td>\n",
       "      <td>38.0</td>\n",
       "      <td>1</td>\n",
       "      <td>0</td>\n",
       "      <td>PC 17599</td>\n",
       "      <td>71.2833</td>\n",
       "      <td>C</td>\n",
       "      <td>0</td>\n",
       "      <td>0</td>\n",
       "      <td>0</td>\n",
       "    </tr>\n",
       "    <tr>\n",
       "      <th>2</th>\n",
       "      <td>3</td>\n",
       "      <td>1</td>\n",
       "      <td>3</td>\n",
       "      <td>Heikkinen, Miss. Laina</td>\n",
       "      <td>female</td>\n",
       "      <td>26.0</td>\n",
       "      <td>0</td>\n",
       "      <td>0</td>\n",
       "      <td>STON/O2. 3101282</td>\n",
       "      <td>7.9250</td>\n",
       "      <td>S</td>\n",
       "      <td>0</td>\n",
       "      <td>0</td>\n",
       "      <td>1</td>\n",
       "    </tr>\n",
       "    <tr>\n",
       "      <th>3</th>\n",
       "      <td>4</td>\n",
       "      <td>1</td>\n",
       "      <td>1</td>\n",
       "      <td>Futrelle, Mrs. Jacques Heath (Lily May Peel)</td>\n",
       "      <td>female</td>\n",
       "      <td>35.0</td>\n",
       "      <td>1</td>\n",
       "      <td>0</td>\n",
       "      <td>113803</td>\n",
       "      <td>53.1000</td>\n",
       "      <td>S</td>\n",
       "      <td>0</td>\n",
       "      <td>0</td>\n",
       "      <td>1</td>\n",
       "    </tr>\n",
       "    <tr>\n",
       "      <th>4</th>\n",
       "      <td>5</td>\n",
       "      <td>0</td>\n",
       "      <td>3</td>\n",
       "      <td>Allen, Mr. William Henry</td>\n",
       "      <td>male</td>\n",
       "      <td>35.0</td>\n",
       "      <td>0</td>\n",
       "      <td>0</td>\n",
       "      <td>373450</td>\n",
       "      <td>8.0500</td>\n",
       "      <td>S</td>\n",
       "      <td>1</td>\n",
       "      <td>0</td>\n",
       "      <td>1</td>\n",
       "    </tr>\n",
       "  </tbody>\n",
       "</table>\n",
       "</div>"
      ],
      "text/plain": [
       "   PassengerId  Survived  Pclass  \\\n",
       "0            1         0       3   \n",
       "1            2         1       1   \n",
       "2            3         1       3   \n",
       "3            4         1       1   \n",
       "4            5         0       3   \n",
       "\n",
       "                                                Name     Sex   Age  SibSp  \\\n",
       "0                            Braund, Mr. Owen Harris    male  22.0      1   \n",
       "1  Cumings, Mrs. John Bradley (Florence Briggs Th...  female  38.0      1   \n",
       "2                             Heikkinen, Miss. Laina  female  26.0      0   \n",
       "3       Futrelle, Mrs. Jacques Heath (Lily May Peel)  female  35.0      1   \n",
       "4                           Allen, Mr. William Henry    male  35.0      0   \n",
       "\n",
       "   Parch            Ticket     Fare Embarked  male  Q  S  \n",
       "0      0         A/5 21171   7.2500        S     1  0  1  \n",
       "1      0          PC 17599  71.2833        C     0  0  0  \n",
       "2      0  STON/O2. 3101282   7.9250        S     0  0  1  \n",
       "3      0            113803  53.1000        S     0  0  1  \n",
       "4      0            373450   8.0500        S     1  0  1  "
      ]
     },
     "execution_count": 16,
     "metadata": {},
     "output_type": "execute_result"
    }
   ],
   "source": [
    "train = pd.concat([train, sex, embarked],axis=1)\n",
    "train.head()"
   ]
  },
  {
   "cell_type": "code",
   "execution_count": 17,
   "id": "12d41971",
   "metadata": {},
   "outputs": [
    {
     "data": {
      "text/html": [
       "<div>\n",
       "<style scoped>\n",
       "    .dataframe tbody tr th:only-of-type {\n",
       "        vertical-align: middle;\n",
       "    }\n",
       "\n",
       "    .dataframe tbody tr th {\n",
       "        vertical-align: top;\n",
       "    }\n",
       "\n",
       "    .dataframe thead th {\n",
       "        text-align: right;\n",
       "    }\n",
       "</style>\n",
       "<table border=\"1\" class=\"dataframe\">\n",
       "  <thead>\n",
       "    <tr style=\"text-align: right;\">\n",
       "      <th></th>\n",
       "      <th>PassengerId</th>\n",
       "      <th>Survived</th>\n",
       "      <th>Pclass</th>\n",
       "      <th>Age</th>\n",
       "      <th>SibSp</th>\n",
       "      <th>Parch</th>\n",
       "      <th>Fare</th>\n",
       "      <th>male</th>\n",
       "      <th>Q</th>\n",
       "      <th>S</th>\n",
       "    </tr>\n",
       "  </thead>\n",
       "  <tbody>\n",
       "    <tr>\n",
       "      <th>0</th>\n",
       "      <td>1</td>\n",
       "      <td>0</td>\n",
       "      <td>3</td>\n",
       "      <td>22.0</td>\n",
       "      <td>1</td>\n",
       "      <td>0</td>\n",
       "      <td>7.2500</td>\n",
       "      <td>1</td>\n",
       "      <td>0</td>\n",
       "      <td>1</td>\n",
       "    </tr>\n",
       "    <tr>\n",
       "      <th>1</th>\n",
       "      <td>2</td>\n",
       "      <td>1</td>\n",
       "      <td>1</td>\n",
       "      <td>38.0</td>\n",
       "      <td>1</td>\n",
       "      <td>0</td>\n",
       "      <td>71.2833</td>\n",
       "      <td>0</td>\n",
       "      <td>0</td>\n",
       "      <td>0</td>\n",
       "    </tr>\n",
       "    <tr>\n",
       "      <th>2</th>\n",
       "      <td>3</td>\n",
       "      <td>1</td>\n",
       "      <td>3</td>\n",
       "      <td>26.0</td>\n",
       "      <td>0</td>\n",
       "      <td>0</td>\n",
       "      <td>7.9250</td>\n",
       "      <td>0</td>\n",
       "      <td>0</td>\n",
       "      <td>1</td>\n",
       "    </tr>\n",
       "    <tr>\n",
       "      <th>3</th>\n",
       "      <td>4</td>\n",
       "      <td>1</td>\n",
       "      <td>1</td>\n",
       "      <td>35.0</td>\n",
       "      <td>1</td>\n",
       "      <td>0</td>\n",
       "      <td>53.1000</td>\n",
       "      <td>0</td>\n",
       "      <td>0</td>\n",
       "      <td>1</td>\n",
       "    </tr>\n",
       "    <tr>\n",
       "      <th>4</th>\n",
       "      <td>5</td>\n",
       "      <td>0</td>\n",
       "      <td>3</td>\n",
       "      <td>35.0</td>\n",
       "      <td>0</td>\n",
       "      <td>0</td>\n",
       "      <td>8.0500</td>\n",
       "      <td>1</td>\n",
       "      <td>0</td>\n",
       "      <td>1</td>\n",
       "    </tr>\n",
       "  </tbody>\n",
       "</table>\n",
       "</div>"
      ],
      "text/plain": [
       "   PassengerId  Survived  Pclass   Age  SibSp  Parch     Fare  male  Q  S\n",
       "0            1         0       3  22.0      1      0   7.2500     1  0  1\n",
       "1            2         1       1  38.0      1      0  71.2833     0  0  0\n",
       "2            3         1       3  26.0      0      0   7.9250     0  0  1\n",
       "3            4         1       1  35.0      1      0  53.1000     0  0  1\n",
       "4            5         0       3  35.0      0      0   8.0500     1  0  1"
      ]
     },
     "execution_count": 17,
     "metadata": {},
     "output_type": "execute_result"
    }
   ],
   "source": [
    "train.drop(['Name', 'Sex', 'Ticket', 'Embarked'], axis=1, inplace=True)\n",
    "train.head()"
   ]
  },
  {
   "cell_type": "markdown",
   "id": "e0697c06",
   "metadata": {},
   "source": [
    "## 6. Building Models "
   ]
  },
  {
   "cell_type": "markdown",
   "id": "e00197b7",
   "metadata": {},
   "source": [
    "### 6.1 Data split "
   ]
  },
  {
   "cell_type": "code",
   "execution_count": 18,
   "id": "07e6fbe1",
   "metadata": {},
   "outputs": [],
   "source": [
    "x = train.drop(['PassengerId', 'Survived'], axis=1)\n",
    "y = train['Survived']\n",
    "\n",
    "def datasplit(x, y):\n",
    "    \"\"\"\n",
    "    Function for data splitting.\n",
    "    \"\"\"\n",
    "    x_train, x_test, y_train, y_test = tts(x, y, test_size=0.33, random_state=101)"
   ]
  },
  {
   "cell_type": "markdown",
   "id": "6786a35d",
   "metadata": {},
   "source": [
    "### 6.2 Logistic Model "
   ]
  },
  {
   "cell_type": "code",
   "execution_count": 181,
   "id": "ffb63bee",
   "metadata": {},
   "outputs": [
    {
     "name": "stdout",
     "output_type": "stream",
     "text": [
      "Loggist Model\n",
      "              precision    recall  f1-score   support\n",
      "\n",
      "           0       0.83      0.92      0.87       163\n",
      "           1       0.85      0.70      0.77       104\n",
      "\n",
      "    accuracy                           0.84       267\n",
      "   macro avg       0.84      0.81      0.82       267\n",
      "weighted avg       0.84      0.84      0.83       267\n",
      "\n",
      "Confusion Matrix:\n"
     ]
    },
    {
     "data": {
      "image/png": "[encoded data removed]",
      "text/plain": [
       "<Figure size 432x288 with 1 Axes>"
      ]
     },
     "metadata": {},
     "output_type": "display_data"
    }
   ],
   "source": [
    "log_model = Pipeline(steps=[('datas_plitting', datasplit(x,y)),\n",
    "                            ('logistic_regression', LogR(max_iter=1000))])\n",
    "\n",
    "log_model.fit(x_train, y_train)\n",
    "log_pred = log_model.predict(x_test)\n",
    "\n",
    "print('Loggist Model')\n",
    "cmd.from_predictions(y_test, log_pred, colorbar = False, cmap = 'Purples')\n",
    "plt.grid(False)\n",
    "print(cr(y_test,log_pred))\n",
    "print('Confusion Matrix:')\n"
   ]
  },
  {
   "cell_type": "markdown",
   "id": "f990b487",
   "metadata": {},
   "source": [
    "### 6.3 K-Nearest Neighbors"
   ]
  },
  {
   "cell_type": "code",
   "execution_count": 81,
   "id": "bc77f4f2",
   "metadata": {},
   "outputs": [
    {
     "data": {
      "image/png": "[encoded data removed]",
      "text/plain": [
       "<Figure size 720x432 with 1 Axes>"
      ]
     },
     "metadata": {},
     "output_type": "display_data"
    }
   ],
   "source": [
    "# Search for the optimum \"n_neighbors\" value.\n",
    "error_rate = []\n",
    "datasplit(x, y)\n",
    "for i in range (1, 40):\n",
    "    knn_i = KNC(n_neighbors= i)\n",
    "    knn_i.fit(x_train, y_train)\n",
    "    pred_i = knn_i.predict(x_test)\n",
    "    error_rate.append(np.mean(pred_i != y_test))\n",
    "    \n",
    "\n",
    "fig, ax = plt.subplots(figsize=(10,6))\n",
    "i = range(1,40)\n",
    "j = error_rate\n",
    "plt.plot(i, j, color='blue', linestyle='dashed', marker='o', markerfacecolor='red', markersize=10)\n",
    "plt.title('Error Rate vs. K Value')\n",
    "plt.xlabel('K')\n",
    "plt.ylabel('Error Rate')\n",
    "for k in range(len(i)):\n",
    "    ax.text(i[k]+0.002, j[k]+0.001, i[k], size=12, fontweight ='bold')"
   ]
  },
  {
   "cell_type": "code",
   "execution_count": 91,
   "id": "a81e80a8",
   "metadata": {},
   "outputs": [
    {
     "name": "stdout",
     "output_type": "stream",
     "text": [
      "\n",
      "\n",
      "K-Neighbors Classifier Model\n",
      "n-neighbors = 13\n",
      "[[154   9]\n",
      " [ 29  75]]\n",
      "              precision    recall  f1-score   support\n",
      "\n",
      "           0       0.84      0.94      0.89       163\n",
      "           1       0.89      0.72      0.80       104\n",
      "\n",
      "    accuracy                           0.86       267\n",
      "   macro avg       0.87      0.83      0.84       267\n",
      "weighted avg       0.86      0.86      0.85       267\n",
      "\n"
     ]
    }
   ],
   "source": [
    "# Election of \"n_neighbors\" regard to the first stable values.\n",
    "n_neighbors = 13\n",
    "a = n_neighbors\n",
    "\n",
    "knn = Pipeline(steps=[('datas_plitting', datasplit(x, y)),\n",
    "                      ('standard_scaler', SS()),\n",
    "                      ('knearest_neighbors', KNC(a))])\n",
    "\n",
    "knn.fit(x_train, y_train)\n",
    "neigh_pred = knn.predict(x_test)\n",
    "\n",
    "print('\\n')\n",
    "print('K-Neighbors Classifier Model')\n",
    "print('n-neighbors =', a)\n",
    "print(cm(y_test,neigh_pred))\n",
    "print(cr(y_test,neigh_pred))"
   ]
  },
  {
   "cell_type": "markdown",
   "id": "1042d3cb",
   "metadata": {},
   "source": [
    "### 6.4 Decision Tree"
   ]
  },
  {
   "cell_type": "code",
   "execution_count": 101,
   "id": "19afc896",
   "metadata": {},
   "outputs": [
    {
     "name": "stdout",
     "output_type": "stream",
     "text": [
      "Decision Tree Model\n",
      "[[150  13]\n",
      " [ 28  76]]\n",
      "              precision    recall  f1-score   support\n",
      "\n",
      "           0       0.84      0.92      0.88       163\n",
      "           1       0.85      0.73      0.79       104\n",
      "\n",
      "    accuracy                           0.85       267\n",
      "   macro avg       0.85      0.83      0.83       267\n",
      "weighted avg       0.85      0.85      0.84       267\n",
      "\n"
     ]
    }
   ],
   "source": [
    "tree = Pipeline(steps=[('datas_plitting', datasplit(x, y)),\n",
    "                       ('standard_scaler', SS()),\n",
    "                       ('decision_tree', DTC(max_depth=3, random_state=2018))])\n",
    "\n",
    "tree.fit(x_train, y_train)\n",
    "tree_pred = tree.predict(x_test)\n",
    "\n",
    "print('Decision Tree Model')\n",
    "print(cm(y_test, tree_pred))\n",
    "print(cr(y_test, tree_pred))"
   ]
  },
  {
   "cell_type": "markdown",
   "id": "2fe42199",
   "metadata": {},
   "source": [
    "### 6.5 Random Forest"
   ]
  },
  {
   "cell_type": "code",
   "execution_count": 164,
   "id": "11679e19",
   "metadata": {},
   "outputs": [
    {
     "name": "stdout",
     "output_type": "stream",
     "text": [
      "Radom Forest Model\n",
      "[[156   7]\n",
      " [ 39  65]]\n",
      "              precision    recall  f1-score   support\n",
      "\n",
      "           0       0.80      0.96      0.87       163\n",
      "           1       0.90      0.62      0.74       104\n",
      "\n",
      "    accuracy                           0.83       267\n",
      "   macro avg       0.85      0.79      0.81       267\n",
      "weighted avg       0.84      0.83      0.82       267\n",
      "\n"
     ]
    }
   ],
   "source": [
    "forest = Pipeline(steps=[('datas_plitting', datasplit(x, y)),\n",
    "                         ('standard_scaler', SS()),\n",
    "                         ('random_forest', RFC(n_estimators=1000, max_depth=3, random_state=2018))])\n",
    "\n",
    "forest.fit(x_train, y_train)\n",
    "forest_pred = forest.predict(x_test)\n",
    "\n",
    "print('Radom Forest Model')\n",
    "print(cm(y_test, forest_pred))\n",
    "print(cr(y_test, forest_pred))"
   ]
  },
  {
   "cell_type": "markdown",
   "id": "01b43993",
   "metadata": {},
   "source": [
    "### 6.6 Support Vector Machines"
   ]
  },
  {
   "cell_type": "code",
   "execution_count": 154,
   "id": "4e2f6885",
   "metadata": {},
   "outputs": [
    {
     "name": "stdout",
     "output_type": "stream",
     "text": [
      "Fitting 5 folds for each of 25 candidates, totalling 125 fits\n",
      "[CV 1/5] END vector_machines__C=0.1, vector_machines__gamma=1, vector_machines__kernel=rbf;, score=0.672 total time=   0.0s\n",
      "[CV 2/5] END vector_machines__C=0.1, vector_machines__gamma=1, vector_machines__kernel=rbf;, score=0.656 total time=   0.0s\n",
      "[CV 3/5] END vector_machines__C=0.1, vector_machines__gamma=1, vector_machines__kernel=rbf;, score=0.637 total time=   0.0s\n",
      "[CV 4/5] END vector_machines__C=0.1, vector_machines__gamma=1, vector_machines__kernel=rbf;, score=0.653 total time=   0.0s\n",
      "[CV 5/5] END vector_machines__C=0.1, vector_machines__gamma=1, vector_machines__kernel=rbf;, score=0.653 total time=   0.0s\n",
      "[CV 1/5] END vector_machines__C=0.1, vector_machines__gamma=0.1, vector_machines__kernel=rbf;, score=0.736 total time=   0.0s\n",
      "[CV 2/5] END vector_machines__C=0.1, vector_machines__gamma=0.1, vector_machines__kernel=rbf;, score=0.832 total time=   0.0s\n",
      "[CV 3/5] END vector_machines__C=0.1, vector_machines__gamma=0.1, vector_machines__kernel=rbf;, score=0.790 total time=   0.0s\n",
      "[CV 4/5] END vector_machines__C=0.1, vector_machines__gamma=0.1, vector_machines__kernel=rbf;, score=0.782 total time=   0.0s\n",
      "[CV 5/5] END vector_machines__C=0.1, vector_machines__gamma=0.1, vector_machines__kernel=rbf;, score=0.790 total time=   0.0s\n",
      "[CV 1/5] END vector_machines__C=0.1, vector_machines__gamma=0.01, vector_machines__kernel=rbf;, score=0.704 total time=   0.0s\n",
      "[CV 2/5] END vector_machines__C=0.1, vector_machines__gamma=0.01, vector_machines__kernel=rbf;, score=0.632 total time=   0.0s\n",
      "[CV 3/5] END vector_machines__C=0.1, vector_machines__gamma=0.01, vector_machines__kernel=rbf;, score=0.661 total time=   0.0s\n",
      "[CV 4/5] END vector_machines__C=0.1, vector_machines__gamma=0.01, vector_machines__kernel=rbf;, score=0.661 total time=   0.0s\n",
      "[CV 5/5] END vector_machines__C=0.1, vector_machines__gamma=0.01, vector_machines__kernel=rbf;, score=0.661 total time=   0.0s\n",
      "[CV 1/5] END vector_machines__C=0.1, vector_machines__gamma=0.001, vector_machines__kernel=rbf;, score=0.624 total time=   0.0s\n",
      "[CV 2/5] END vector_machines__C=0.1, vector_machines__gamma=0.001, vector_machines__kernel=rbf;, score=0.616 total time=   0.0s\n",
      "[CV 3/5] END vector_machines__C=0.1, vector_machines__gamma=0.001, vector_machines__kernel=rbf;, score=0.621 total time=   0.0s\n",
      "[CV 4/5] END vector_machines__C=0.1, vector_machines__gamma=0.001, vector_machines__kernel=rbf;, score=0.621 total time=   0.0s\n",
      "[CV 5/5] END vector_machines__C=0.1, vector_machines__gamma=0.001, vector_machines__kernel=rbf;, score=0.621 total time=   0.0s\n",
      "[CV 1/5] END vector_machines__C=0.1, vector_machines__gamma=0.0001, vector_machines__kernel=rbf;, score=0.624 total time=   0.0s\n",
      "[CV 2/5] END vector_machines__C=0.1, vector_machines__gamma=0.0001, vector_machines__kernel=rbf;, score=0.616 total time=   0.0s\n",
      "[CV 3/5] END vector_machines__C=0.1, vector_machines__gamma=0.0001, vector_machines__kernel=rbf;, score=0.621 total time=   0.0s\n",
      "[CV 4/5] END vector_machines__C=0.1, vector_machines__gamma=0.0001, vector_machines__kernel=rbf;, score=0.621 total time=   0.0s\n",
      "[CV 5/5] END vector_machines__C=0.1, vector_machines__gamma=0.0001, vector_machines__kernel=rbf;, score=0.621 total time=   0.0s\n",
      "[CV 1/5] END vector_machines__C=1, vector_machines__gamma=1, vector_machines__kernel=rbf;, score=0.768 total time=   0.0s\n",
      "[CV 2/5] END vector_machines__C=1, vector_machines__gamma=1, vector_machines__kernel=rbf;, score=0.824 total time=   0.0s\n",
      "[CV 3/5] END vector_machines__C=1, vector_machines__gamma=1, vector_machines__kernel=rbf;, score=0.806 total time=   0.0s\n",
      "[CV 4/5] END vector_machines__C=1, vector_machines__gamma=1, vector_machines__kernel=rbf;, score=0.798 total time=   0.0s\n",
      "[CV 5/5] END vector_machines__C=1, vector_machines__gamma=1, vector_machines__kernel=rbf;, score=0.847 total time=   0.0s\n",
      "[CV 1/5] END vector_machines__C=1, vector_machines__gamma=0.1, vector_machines__kernel=rbf;, score=0.792 total time=   0.0s\n",
      "[CV 2/5] END vector_machines__C=1, vector_machines__gamma=0.1, vector_machines__kernel=rbf;, score=0.848 total time=   0.0s\n",
      "[CV 3/5] END vector_machines__C=1, vector_machines__gamma=0.1, vector_machines__kernel=rbf;, score=0.806 total time=   0.0s\n",
      "[CV 4/5] END vector_machines__C=1, vector_machines__gamma=0.1, vector_machines__kernel=rbf;, score=0.790 total time=   0.0s\n",
      "[CV 5/5] END vector_machines__C=1, vector_machines__gamma=0.1, vector_machines__kernel=rbf;, score=0.823 total time=   0.0s\n",
      "[CV 1/5] END vector_machines__C=1, vector_machines__gamma=0.01, vector_machines__kernel=rbf;, score=0.728 total time=   0.0s\n",
      "[CV 2/5] END vector_machines__C=1, vector_machines__gamma=0.01, vector_machines__kernel=rbf;, score=0.816 total time=   0.0s\n",
      "[CV 3/5] END vector_machines__C=1, vector_machines__gamma=0.01, vector_machines__kernel=rbf;, score=0.782 total time=   0.0s\n",
      "[CV 4/5] END vector_machines__C=1, vector_machines__gamma=0.01, vector_machines__kernel=rbf;, score=0.766 total time=   0.0s\n",
      "[CV 5/5] END vector_machines__C=1, vector_machines__gamma=0.01, vector_machines__kernel=rbf;, score=0.839 total time=   0.0s\n",
      "[CV 1/5] END vector_machines__C=1, vector_machines__gamma=0.001, vector_machines__kernel=rbf;, score=0.728 total time=   0.0s\n",
      "[CV 2/5] END vector_machines__C=1, vector_machines__gamma=0.001, vector_machines__kernel=rbf;, score=0.704 total time=   0.0s\n",
      "[CV 3/5] END vector_machines__C=1, vector_machines__gamma=0.001, vector_machines__kernel=rbf;, score=0.694 total time=   0.0s\n",
      "[CV 4/5] END vector_machines__C=1, vector_machines__gamma=0.001, vector_machines__kernel=rbf;, score=0.710 total time=   0.0s\n",
      "[CV 5/5] END vector_machines__C=1, vector_machines__gamma=0.001, vector_machines__kernel=rbf;, score=0.694 total time=   0.0s\n",
      "[CV 1/5] END vector_machines__C=1, vector_machines__gamma=0.0001, vector_machines__kernel=rbf;, score=0.624 total time=   0.0s\n",
      "[CV 2/5] END vector_machines__C=1, vector_machines__gamma=0.0001, vector_machines__kernel=rbf;, score=0.616 total time=   0.0s\n",
      "[CV 3/5] END vector_machines__C=1, vector_machines__gamma=0.0001, vector_machines__kernel=rbf;, score=0.621 total time=   0.0s\n",
      "[CV 4/5] END vector_machines__C=1, vector_machines__gamma=0.0001, vector_machines__kernel=rbf;, score=0.621 total time=   0.0s\n",
      "[CV 5/5] END vector_machines__C=1, vector_machines__gamma=0.0001, vector_machines__kernel=rbf;, score=0.621 total time=   0.0s\n",
      "[CV 1/5] END vector_machines__C=10, vector_machines__gamma=1, vector_machines__kernel=rbf;, score=0.744 total time=   0.0s\n",
      "[CV 2/5] END vector_machines__C=10, vector_machines__gamma=1, vector_machines__kernel=rbf;, score=0.776 total time=   0.0s\n",
      "[CV 3/5] END vector_machines__C=10, vector_machines__gamma=1, vector_machines__kernel=rbf;, score=0.758 total time=   0.0s\n",
      "[CV 4/5] END vector_machines__C=10, vector_machines__gamma=1, vector_machines__kernel=rbf;, score=0.774 total time=   0.0s\n",
      "[CV 5/5] END vector_machines__C=10, vector_machines__gamma=1, vector_machines__kernel=rbf;, score=0.839 total time=   0.0s\n",
      "[CV 1/5] END vector_machines__C=10, vector_machines__gamma=0.1, vector_machines__kernel=rbf;, score=0.792 total time=   0.0s\n",
      "[CV 2/5] END vector_machines__C=10, vector_machines__gamma=0.1, vector_machines__kernel=rbf;, score=0.824 total time=   0.0s\n",
      "[CV 3/5] END vector_machines__C=10, vector_machines__gamma=0.1, vector_machines__kernel=rbf;, score=0.806 total time=   0.0s\n",
      "[CV 4/5] END vector_machines__C=10, vector_machines__gamma=0.1, vector_machines__kernel=rbf;, score=0.790 total time=   0.0s\n",
      "[CV 5/5] END vector_machines__C=10, vector_machines__gamma=0.1, vector_machines__kernel=rbf;, score=0.823 total time=   0.0s\n",
      "[CV 1/5] END vector_machines__C=10, vector_machines__gamma=0.01, vector_machines__kernel=rbf;, score=0.736 total time=   0.0s\n",
      "[CV 2/5] END vector_machines__C=10, vector_machines__gamma=0.01, vector_machines__kernel=rbf;, score=0.824 total time=   0.0s\n",
      "[CV 3/5] END vector_machines__C=10, vector_machines__gamma=0.01, vector_machines__kernel=rbf;, score=0.790 total time=   0.0s\n",
      "[CV 4/5] END vector_machines__C=10, vector_machines__gamma=0.01, vector_machines__kernel=rbf;, score=0.766 total time=   0.0s\n",
      "[CV 5/5] END vector_machines__C=10, vector_machines__gamma=0.01, vector_machines__kernel=rbf;, score=0.855 total time=   0.0s\n",
      "[CV 1/5] END vector_machines__C=10, vector_machines__gamma=0.001, vector_machines__kernel=rbf;, score=0.728 total time=   0.0s\n",
      "[CV 2/5] END vector_machines__C=10, vector_machines__gamma=0.001, vector_machines__kernel=rbf;, score=0.808 total time=   0.0s\n"
     ]
    },
    {
     "name": "stdout",
     "output_type": "stream",
     "text": [
      "[CV 3/5] END vector_machines__C=10, vector_machines__gamma=0.001, vector_machines__kernel=rbf;, score=0.782 total time=   0.0s\n",
      "[CV 4/5] END vector_machines__C=10, vector_machines__gamma=0.001, vector_machines__kernel=rbf;, score=0.766 total time=   0.0s\n",
      "[CV 5/5] END vector_machines__C=10, vector_machines__gamma=0.001, vector_machines__kernel=rbf;, score=0.839 total time=   0.0s\n",
      "[CV 1/5] END vector_machines__C=10, vector_machines__gamma=0.0001, vector_machines__kernel=rbf;, score=0.728 total time=   0.0s\n",
      "[CV 2/5] END vector_machines__C=10, vector_machines__gamma=0.0001, vector_machines__kernel=rbf;, score=0.712 total time=   0.0s\n",
      "[CV 3/5] END vector_machines__C=10, vector_machines__gamma=0.0001, vector_machines__kernel=rbf;, score=0.702 total time=   0.0s\n",
      "[CV 4/5] END vector_machines__C=10, vector_machines__gamma=0.0001, vector_machines__kernel=rbf;, score=0.710 total time=   0.0s\n",
      "[CV 5/5] END vector_machines__C=10, vector_machines__gamma=0.0001, vector_machines__kernel=rbf;, score=0.702 total time=   0.0s\n",
      "[CV 1/5] END vector_machines__C=100, vector_machines__gamma=1, vector_machines__kernel=rbf;, score=0.736 total time=   0.0s\n",
      "[CV 2/5] END vector_machines__C=100, vector_machines__gamma=1, vector_machines__kernel=rbf;, score=0.760 total time=   0.0s\n",
      "[CV 3/5] END vector_machines__C=100, vector_machines__gamma=1, vector_machines__kernel=rbf;, score=0.742 total time=   0.0s\n",
      "[CV 4/5] END vector_machines__C=100, vector_machines__gamma=1, vector_machines__kernel=rbf;, score=0.774 total time=   0.0s\n",
      "[CV 5/5] END vector_machines__C=100, vector_machines__gamma=1, vector_machines__kernel=rbf;, score=0.815 total time=   0.0s\n",
      "[CV 1/5] END vector_machines__C=100, vector_machines__gamma=0.1, vector_machines__kernel=rbf;, score=0.760 total time=   0.0s\n",
      "[CV 2/5] END vector_machines__C=100, vector_machines__gamma=0.1, vector_machines__kernel=rbf;, score=0.784 total time=   0.0s\n",
      "[CV 3/5] END vector_machines__C=100, vector_machines__gamma=0.1, vector_machines__kernel=rbf;, score=0.798 total time=   0.0s\n",
      "[CV 4/5] END vector_machines__C=100, vector_machines__gamma=0.1, vector_machines__kernel=rbf;, score=0.806 total time=   0.0s\n",
      "[CV 5/5] END vector_machines__C=100, vector_machines__gamma=0.1, vector_machines__kernel=rbf;, score=0.839 total time=   0.0s\n",
      "[CV 1/5] END vector_machines__C=100, vector_machines__gamma=0.01, vector_machines__kernel=rbf;, score=0.800 total time=   0.0s\n",
      "[CV 2/5] END vector_machines__C=100, vector_machines__gamma=0.01, vector_machines__kernel=rbf;, score=0.840 total time=   0.0s\n",
      "[CV 3/5] END vector_machines__C=100, vector_machines__gamma=0.01, vector_machines__kernel=rbf;, score=0.806 total time=   0.0s\n",
      "[CV 4/5] END vector_machines__C=100, vector_machines__gamma=0.01, vector_machines__kernel=rbf;, score=0.774 total time=   0.0s\n",
      "[CV 5/5] END vector_machines__C=100, vector_machines__gamma=0.01, vector_machines__kernel=rbf;, score=0.831 total time=   0.0s\n",
      "[CV 1/5] END vector_machines__C=100, vector_machines__gamma=0.001, vector_machines__kernel=rbf;, score=0.728 total time=   0.0s\n",
      "[CV 2/5] END vector_machines__C=100, vector_machines__gamma=0.001, vector_machines__kernel=rbf;, score=0.808 total time=   0.0s\n",
      "[CV 3/5] END vector_machines__C=100, vector_machines__gamma=0.001, vector_machines__kernel=rbf;, score=0.774 total time=   0.0s\n",
      "[CV 4/5] END vector_machines__C=100, vector_machines__gamma=0.001, vector_machines__kernel=rbf;, score=0.766 total time=   0.0s\n",
      "[CV 5/5] END vector_machines__C=100, vector_machines__gamma=0.001, vector_machines__kernel=rbf;, score=0.839 total time=   0.0s\n",
      "[CV 1/5] END vector_machines__C=100, vector_machines__gamma=0.0001, vector_machines__kernel=rbf;, score=0.728 total time=   0.0s\n",
      "[CV 2/5] END vector_machines__C=100, vector_machines__gamma=0.0001, vector_machines__kernel=rbf;, score=0.808 total time=   0.0s\n",
      "[CV 3/5] END vector_machines__C=100, vector_machines__gamma=0.0001, vector_machines__kernel=rbf;, score=0.782 total time=   0.0s\n",
      "[CV 4/5] END vector_machines__C=100, vector_machines__gamma=0.0001, vector_machines__kernel=rbf;, score=0.766 total time=   0.0s\n",
      "[CV 5/5] END vector_machines__C=100, vector_machines__gamma=0.0001, vector_machines__kernel=rbf;, score=0.839 total time=   0.0s\n",
      "[CV 1/5] END vector_machines__C=1000, vector_machines__gamma=1, vector_machines__kernel=rbf;, score=0.704 total time=   0.0s\n",
      "[CV 2/5] END vector_machines__C=1000, vector_machines__gamma=1, vector_machines__kernel=rbf;, score=0.736 total time=   0.0s\n",
      "[CV 3/5] END vector_machines__C=1000, vector_machines__gamma=1, vector_machines__kernel=rbf;, score=0.694 total time=   0.0s\n",
      "[CV 4/5] END vector_machines__C=1000, vector_machines__gamma=1, vector_machines__kernel=rbf;, score=0.734 total time=   0.4s\n",
      "[CV 5/5] END vector_machines__C=1000, vector_machines__gamma=1, vector_machines__kernel=rbf;, score=0.774 total time=   0.1s\n",
      "[CV 1/5] END vector_machines__C=1000, vector_machines__gamma=0.1, vector_machines__kernel=rbf;, score=0.768 total time=   0.1s\n",
      "[CV 2/5] END vector_machines__C=1000, vector_machines__gamma=0.1, vector_machines__kernel=rbf;, score=0.768 total time=   0.1s\n",
      "[CV 3/5] END vector_machines__C=1000, vector_machines__gamma=0.1, vector_machines__kernel=rbf;, score=0.774 total time=   0.1s\n",
      "[CV 4/5] END vector_machines__C=1000, vector_machines__gamma=0.1, vector_machines__kernel=rbf;, score=0.782 total time=   0.1s\n",
      "[CV 5/5] END vector_machines__C=1000, vector_machines__gamma=0.1, vector_machines__kernel=rbf;, score=0.815 total time=   0.1s\n",
      "[CV 1/5] END vector_machines__C=1000, vector_machines__gamma=0.01, vector_machines__kernel=rbf;, score=0.784 total time=   0.0s\n",
      "[CV 2/5] END vector_machines__C=1000, vector_machines__gamma=0.01, vector_machines__kernel=rbf;, score=0.800 total time=   0.0s\n",
      "[CV 3/5] END vector_machines__C=1000, vector_machines__gamma=0.01, vector_machines__kernel=rbf;, score=0.823 total time=   0.0s\n",
      "[CV 4/5] END vector_machines__C=1000, vector_machines__gamma=0.01, vector_machines__kernel=rbf;, score=0.798 total time=   0.0s\n",
      "[CV 5/5] END vector_machines__C=1000, vector_machines__gamma=0.01, vector_machines__kernel=rbf;, score=0.815 total time=   0.0s\n",
      "[CV 1/5] END vector_machines__C=1000, vector_machines__gamma=0.001, vector_machines__kernel=rbf;, score=0.736 total time=   0.0s\n",
      "[CV 2/5] END vector_machines__C=1000, vector_machines__gamma=0.001, vector_machines__kernel=rbf;, score=0.824 total time=   0.0s\n",
      "[CV 3/5] END vector_machines__C=1000, vector_machines__gamma=0.001, vector_machines__kernel=rbf;, score=0.790 total time=   0.0s\n",
      "[CV 4/5] END vector_machines__C=1000, vector_machines__gamma=0.001, vector_machines__kernel=rbf;, score=0.766 total time=   0.0s\n",
      "[CV 5/5] END vector_machines__C=1000, vector_machines__gamma=0.001, vector_machines__kernel=rbf;, score=0.855 total time=   0.0s\n",
      "[CV 1/5] END vector_machines__C=1000, vector_machines__gamma=0.0001, vector_machines__kernel=rbf;, score=0.728 total time=   0.0s\n",
      "[CV 2/5] END vector_machines__C=1000, vector_machines__gamma=0.0001, vector_machines__kernel=rbf;, score=0.808 total time=   0.0s\n",
      "[CV 3/5] END vector_machines__C=1000, vector_machines__gamma=0.0001, vector_machines__kernel=rbf;, score=0.782 total time=   0.0s\n",
      "[CV 4/5] END vector_machines__C=1000, vector_machines__gamma=0.0001, vector_machines__kernel=rbf;, score=0.766 total time=   0.0s\n",
      "[CV 5/5] END vector_machines__C=1000, vector_machines__gamma=0.0001, vector_machines__kernel=rbf;, score=0.839 total time=   0.0s\n",
      "\n",
      "\n",
      "Support Vector Machines Model\n",
      "Best param in \"C\":  1\n",
      "Best param in \"gamma\":  0.1\n",
      "Best param in \"kernel\":  rbf\n",
      "[[153  10]\n",
      " [ 31  73]]\n",
      "              precision    recall  f1-score   support\n",
      "\n",
      "           0       0.83      0.94      0.88       163\n",
      "           1       0.88      0.70      0.78       104\n",
      "\n",
      "    accuracy                           0.85       267\n",
      "   macro avg       0.86      0.82      0.83       267\n",
      "weighted avg       0.85      0.85      0.84       267\n",
      "\n"
     ]
    }
   ],
   "source": [
    "# Gridserch criteria\n",
    "param_grid = {'vector_machines__C': [0.1,1, 10, 100, 1000], 'vector_machines__gamma': [1,0.1,0.01,0.001,0.0001], 'vector_machines__kernel': ['rbf']}\n",
    "\n",
    "\n",
    "vector = Pipeline(steps=[('datas_plitting', datasplit(x, y)),\n",
    "                         ('standard_scaler', SS()),\n",
    "                         ('vector_machines', SVC())])\n",
    "\n",
    "# Gridsearch\n",
    "grid_vector = GSCV(vector, param_grid, refit=True, verbose=3)\n",
    "\n",
    "grid_vector.fit(x_train, y_train)\n",
    "vector_pred = grid_vector.predict(x_test)\n",
    "\n",
    "print('\\n')\n",
    "print('Support Vector Machines Model')\n",
    "print('Best param in \"C\": ', grid_vector.best_params_['vector_machines__C'])\n",
    "print('Best param in \"gamma\": ', grid_vector.best_params_['vector_machines__gamma'])\n",
    "print('Best param in \"kernel\": ', grid_vector.best_params_['vector_machines__kernel'])\n",
    "print(cm(y_test, vector_pred))\n",
    "print(cr(y_test, vector_pred))"
   ]
  },
  {
   "cell_type": "markdown",
   "id": "7d11b2ba",
   "metadata": {},
   "source": [
    "## 7. Conclusion"
   ]
  },
  {
   "cell_type": "markdown",
   "id": "bd062916",
   "metadata": {},
   "source": [
    "* In comparison, the **K-Nearest Neighbors** obtained the best scores among the 5 models performed..\n",
    "* This model will be used to predict de submission results."
   ]
  },
  {
   "cell_type": "markdown",
   "id": "fcd67a1a",
   "metadata": {},
   "source": [
    "## 8. Submission Results"
   ]
  },
  {
   "cell_type": "markdown",
   "id": "7573d49d",
   "metadata": {},
   "source": [
    "* It will be repeated the same cleaning data process on the \"test\" data and predict the interest labels with the specificated model and its fits."
   ]
  },
  {
   "cell_type": "code",
   "execution_count": 183,
   "id": "f20cc153",
   "metadata": {},
   "outputs": [
    {
     "data": {
      "text/html": [
       "<div>\n",
       "<style scoped>\n",
       "    .dataframe tbody tr th:only-of-type {\n",
       "        vertical-align: middle;\n",
       "    }\n",
       "\n",
       "    .dataframe tbody tr th {\n",
       "        vertical-align: top;\n",
       "    }\n",
       "\n",
       "    .dataframe thead th {\n",
       "        text-align: right;\n",
       "    }\n",
       "</style>\n",
       "<table border=\"1\" class=\"dataframe\">\n",
       "  <thead>\n",
       "    <tr style=\"text-align: right;\">\n",
       "      <th></th>\n",
       "      <th>PassengerId</th>\n",
       "      <th>Pclass</th>\n",
       "      <th>Name</th>\n",
       "      <th>Sex</th>\n",
       "      <th>Age</th>\n",
       "      <th>SibSp</th>\n",
       "      <th>Parch</th>\n",
       "      <th>Ticket</th>\n",
       "      <th>Fare</th>\n",
       "      <th>Cabin</th>\n",
       "      <th>Embarked</th>\n",
       "    </tr>\n",
       "  </thead>\n",
       "  <tbody>\n",
       "    <tr>\n",
       "      <th>0</th>\n",
       "      <td>892</td>\n",
       "      <td>3</td>\n",
       "      <td>Kelly, Mr. James</td>\n",
       "      <td>male</td>\n",
       "      <td>34.5</td>\n",
       "      <td>0</td>\n",
       "      <td>0</td>\n",
       "      <td>330911</td>\n",
       "      <td>7.8292</td>\n",
       "      <td>NaN</td>\n",
       "      <td>Q</td>\n",
       "    </tr>\n",
       "    <tr>\n",
       "      <th>1</th>\n",
       "      <td>893</td>\n",
       "      <td>3</td>\n",
       "      <td>Wilkes, Mrs. James (Ellen Needs)</td>\n",
       "      <td>female</td>\n",
       "      <td>47.0</td>\n",
       "      <td>1</td>\n",
       "      <td>0</td>\n",
       "      <td>363272</td>\n",
       "      <td>7.0000</td>\n",
       "      <td>NaN</td>\n",
       "      <td>S</td>\n",
       "    </tr>\n",
       "    <tr>\n",
       "      <th>2</th>\n",
       "      <td>894</td>\n",
       "      <td>2</td>\n",
       "      <td>Myles, Mr. Thomas Francis</td>\n",
       "      <td>male</td>\n",
       "      <td>62.0</td>\n",
       "      <td>0</td>\n",
       "      <td>0</td>\n",
       "      <td>240276</td>\n",
       "      <td>9.6875</td>\n",
       "      <td>NaN</td>\n",
       "      <td>Q</td>\n",
       "    </tr>\n",
       "    <tr>\n",
       "      <th>3</th>\n",
       "      <td>895</td>\n",
       "      <td>3</td>\n",
       "      <td>Wirz, Mr. Albert</td>\n",
       "      <td>male</td>\n",
       "      <td>27.0</td>\n",
       "      <td>0</td>\n",
       "      <td>0</td>\n",
       "      <td>315154</td>\n",
       "      <td>8.6625</td>\n",
       "      <td>NaN</td>\n",
       "      <td>S</td>\n",
       "    </tr>\n",
       "    <tr>\n",
       "      <th>4</th>\n",
       "      <td>896</td>\n",
       "      <td>3</td>\n",
       "      <td>Hirvonen, Mrs. Alexander (Helga E Lindqvist)</td>\n",
       "      <td>female</td>\n",
       "      <td>22.0</td>\n",
       "      <td>1</td>\n",
       "      <td>1</td>\n",
       "      <td>3101298</td>\n",
       "      <td>12.2875</td>\n",
       "      <td>NaN</td>\n",
       "      <td>S</td>\n",
       "    </tr>\n",
       "  </tbody>\n",
       "</table>\n",
       "</div>"
      ],
      "text/plain": [
       "   PassengerId  Pclass                                          Name     Sex  \\\n",
       "0          892       3                              Kelly, Mr. James    male   \n",
       "1          893       3              Wilkes, Mrs. James (Ellen Needs)  female   \n",
       "2          894       2                     Myles, Mr. Thomas Francis    male   \n",
       "3          895       3                              Wirz, Mr. Albert    male   \n",
       "4          896       3  Hirvonen, Mrs. Alexander (Helga E Lindqvist)  female   \n",
       "\n",
       "    Age  SibSp  Parch   Ticket     Fare Cabin Embarked  \n",
       "0  34.5      0      0   330911   7.8292   NaN        Q  \n",
       "1  47.0      1      0   363272   7.0000   NaN        S  \n",
       "2  62.0      0      0   240276   9.6875   NaN        Q  \n",
       "3  27.0      0      0   315154   8.6625   NaN        S  \n",
       "4  22.0      1      1  3101298  12.2875   NaN        S  "
      ]
     },
     "execution_count": 183,
     "metadata": {},
     "output_type": "execute_result"
    }
   ],
   "source": [
    "test.head()"
   ]
  },
  {
   "cell_type": "code",
   "execution_count": 185,
   "id": "7763b9d3",
   "metadata": {},
   "outputs": [
    {
     "data": {
      "text/plain": [
       "Pclass\n",
       "1    41.0\n",
       "2    29.0\n",
       "3    24.0\n",
       "Name: Age, dtype: float64"
      ]
     },
     "execution_count": 185,
     "metadata": {},
     "output_type": "execute_result"
    }
   ],
   "source": [
    "test.groupby('Pclass').mean().round()['Age']"
   ]
  },
  {
   "cell_type": "code",
   "execution_count": 19,
   "id": "1d0a357c",
   "metadata": {},
   "outputs": [],
   "source": [
    "def fill_age_2(cols):\n",
    "    \"\"\"\n",
    "    Imputation function for the column 'Age' regard to the average ages for each ticket class.\n",
    "    \"\"\"\n",
    "    age = cols[0]\n",
    "    p_class = cols[1]\n",
    "    \n",
    "    if pd.isnull(age):\n",
    "        if p_class == 1:\n",
    "            return 41\n",
    "        elif p_class == 2:\n",
    "            return 29\n",
    "        else:\n",
    "            return 24\n",
    "    else:\n",
    "        return age"
   ]
  },
  {
   "cell_type": "code",
   "execution_count": 20,
   "id": "e8179fb8",
   "metadata": {},
   "outputs": [],
   "source": [
    "test['Age'] = test[['Age','Pclass']].apply(fill_age_2, axis=1)"
   ]
  },
  {
   "cell_type": "code",
   "execution_count": 21,
   "id": "3fa37df5",
   "metadata": {},
   "outputs": [],
   "source": [
    "test.drop('Cabin', axis=1, inplace=True)"
   ]
  },
  {
   "cell_type": "code",
   "execution_count": 22,
   "id": "d303e895",
   "metadata": {},
   "outputs": [],
   "source": [
    "test.dropna(inplace=True)"
   ]
  },
  {
   "cell_type": "code",
   "execution_count": 23,
   "id": "0b22f60a",
   "metadata": {},
   "outputs": [
    {
     "data": {
      "text/html": [
       "<div>\n",
       "<style scoped>\n",
       "    .dataframe tbody tr th:only-of-type {\n",
       "        vertical-align: middle;\n",
       "    }\n",
       "\n",
       "    .dataframe tbody tr th {\n",
       "        vertical-align: top;\n",
       "    }\n",
       "\n",
       "    .dataframe thead th {\n",
       "        text-align: right;\n",
       "    }\n",
       "</style>\n",
       "<table border=\"1\" class=\"dataframe\">\n",
       "  <thead>\n",
       "    <tr style=\"text-align: right;\">\n",
       "      <th></th>\n",
       "      <th>PassengerId</th>\n",
       "      <th>Pclass</th>\n",
       "      <th>Name</th>\n",
       "      <th>Sex</th>\n",
       "      <th>Age</th>\n",
       "      <th>SibSp</th>\n",
       "      <th>Parch</th>\n",
       "      <th>Ticket</th>\n",
       "      <th>Fare</th>\n",
       "      <th>Embarked</th>\n",
       "    </tr>\n",
       "  </thead>\n",
       "  <tbody>\n",
       "    <tr>\n",
       "      <th>0</th>\n",
       "      <td>892</td>\n",
       "      <td>3</td>\n",
       "      <td>Kelly, Mr. James</td>\n",
       "      <td>male</td>\n",
       "      <td>34.5</td>\n",
       "      <td>0</td>\n",
       "      <td>0</td>\n",
       "      <td>330911</td>\n",
       "      <td>7.8292</td>\n",
       "      <td>Q</td>\n",
       "    </tr>\n",
       "    <tr>\n",
       "      <th>1</th>\n",
       "      <td>893</td>\n",
       "      <td>3</td>\n",
       "      <td>Wilkes, Mrs. James (Ellen Needs)</td>\n",
       "      <td>female</td>\n",
       "      <td>47.0</td>\n",
       "      <td>1</td>\n",
       "      <td>0</td>\n",
       "      <td>363272</td>\n",
       "      <td>7.0000</td>\n",
       "      <td>S</td>\n",
       "    </tr>\n",
       "    <tr>\n",
       "      <th>2</th>\n",
       "      <td>894</td>\n",
       "      <td>2</td>\n",
       "      <td>Myles, Mr. Thomas Francis</td>\n",
       "      <td>male</td>\n",
       "      <td>62.0</td>\n",
       "      <td>0</td>\n",
       "      <td>0</td>\n",
       "      <td>240276</td>\n",
       "      <td>9.6875</td>\n",
       "      <td>Q</td>\n",
       "    </tr>\n",
       "    <tr>\n",
       "      <th>3</th>\n",
       "      <td>895</td>\n",
       "      <td>3</td>\n",
       "      <td>Wirz, Mr. Albert</td>\n",
       "      <td>male</td>\n",
       "      <td>27.0</td>\n",
       "      <td>0</td>\n",
       "      <td>0</td>\n",
       "      <td>315154</td>\n",
       "      <td>8.6625</td>\n",
       "      <td>S</td>\n",
       "    </tr>\n",
       "    <tr>\n",
       "      <th>4</th>\n",
       "      <td>896</td>\n",
       "      <td>3</td>\n",
       "      <td>Hirvonen, Mrs. Alexander (Helga E Lindqvist)</td>\n",
       "      <td>female</td>\n",
       "      <td>22.0</td>\n",
       "      <td>1</td>\n",
       "      <td>1</td>\n",
       "      <td>3101298</td>\n",
       "      <td>12.2875</td>\n",
       "      <td>S</td>\n",
       "    </tr>\n",
       "  </tbody>\n",
       "</table>\n",
       "</div>"
      ],
      "text/plain": [
       "   PassengerId  Pclass                                          Name     Sex  \\\n",
       "0          892       3                              Kelly, Mr. James    male   \n",
       "1          893       3              Wilkes, Mrs. James (Ellen Needs)  female   \n",
       "2          894       2                     Myles, Mr. Thomas Francis    male   \n",
       "3          895       3                              Wirz, Mr. Albert    male   \n",
       "4          896       3  Hirvonen, Mrs. Alexander (Helga E Lindqvist)  female   \n",
       "\n",
       "    Age  SibSp  Parch   Ticket     Fare Embarked  \n",
       "0  34.5      0      0   330911   7.8292        Q  \n",
       "1  47.0      1      0   363272   7.0000        S  \n",
       "2  62.0      0      0   240276   9.6875        Q  \n",
       "3  27.0      0      0   315154   8.6625        S  \n",
       "4  22.0      1      1  3101298  12.2875        S  "
      ]
     },
     "execution_count": 23,
     "metadata": {},
     "output_type": "execute_result"
    }
   ],
   "source": [
    "test.head()"
   ]
  },
  {
   "cell_type": "code",
   "execution_count": 24,
   "id": "a37b8d52",
   "metadata": {},
   "outputs": [],
   "source": [
    "sex = pd.get_dummies(test['Sex'], drop_first=True)\n",
    "embarked = pd.get_dummies(test['Embarked'], drop_first=True)\n",
    "test = pd.concat([test, sex, embarked],axis=1)"
   ]
  },
  {
   "cell_type": "code",
   "execution_count": 25,
   "id": "48332d9c",
   "metadata": {},
   "outputs": [],
   "source": [
    "test.drop(['Name', 'Sex', 'Ticket', 'Embarked'], axis=1, inplace=True)"
   ]
  },
  {
   "cell_type": "code",
   "execution_count": 26,
   "id": "58b5a44d",
   "metadata": {},
   "outputs": [
    {
     "data": {
      "text/html": [
       "<div>\n",
       "<style scoped>\n",
       "    .dataframe tbody tr th:only-of-type {\n",
       "        vertical-align: middle;\n",
       "    }\n",
       "\n",
       "    .dataframe tbody tr th {\n",
       "        vertical-align: top;\n",
       "    }\n",
       "\n",
       "    .dataframe thead th {\n",
       "        text-align: right;\n",
       "    }\n",
       "</style>\n",
       "<table border=\"1\" class=\"dataframe\">\n",
       "  <thead>\n",
       "    <tr style=\"text-align: right;\">\n",
       "      <th></th>\n",
       "      <th>PassengerId</th>\n",
       "      <th>Pclass</th>\n",
       "      <th>Age</th>\n",
       "      <th>SibSp</th>\n",
       "      <th>Parch</th>\n",
       "      <th>Fare</th>\n",
       "      <th>male</th>\n",
       "      <th>Q</th>\n",
       "      <th>S</th>\n",
       "    </tr>\n",
       "  </thead>\n",
       "  <tbody>\n",
       "    <tr>\n",
       "      <th>0</th>\n",
       "      <td>892</td>\n",
       "      <td>3</td>\n",
       "      <td>34.5</td>\n",
       "      <td>0</td>\n",
       "      <td>0</td>\n",
       "      <td>7.8292</td>\n",
       "      <td>1</td>\n",
       "      <td>1</td>\n",
       "      <td>0</td>\n",
       "    </tr>\n",
       "    <tr>\n",
       "      <th>1</th>\n",
       "      <td>893</td>\n",
       "      <td>3</td>\n",
       "      <td>47.0</td>\n",
       "      <td>1</td>\n",
       "      <td>0</td>\n",
       "      <td>7.0000</td>\n",
       "      <td>0</td>\n",
       "      <td>0</td>\n",
       "      <td>1</td>\n",
       "    </tr>\n",
       "    <tr>\n",
       "      <th>2</th>\n",
       "      <td>894</td>\n",
       "      <td>2</td>\n",
       "      <td>62.0</td>\n",
       "      <td>0</td>\n",
       "      <td>0</td>\n",
       "      <td>9.6875</td>\n",
       "      <td>1</td>\n",
       "      <td>1</td>\n",
       "      <td>0</td>\n",
       "    </tr>\n",
       "    <tr>\n",
       "      <th>3</th>\n",
       "      <td>895</td>\n",
       "      <td>3</td>\n",
       "      <td>27.0</td>\n",
       "      <td>0</td>\n",
       "      <td>0</td>\n",
       "      <td>8.6625</td>\n",
       "      <td>1</td>\n",
       "      <td>0</td>\n",
       "      <td>1</td>\n",
       "    </tr>\n",
       "    <tr>\n",
       "      <th>4</th>\n",
       "      <td>896</td>\n",
       "      <td>3</td>\n",
       "      <td>22.0</td>\n",
       "      <td>1</td>\n",
       "      <td>1</td>\n",
       "      <td>12.2875</td>\n",
       "      <td>0</td>\n",
       "      <td>0</td>\n",
       "      <td>1</td>\n",
       "    </tr>\n",
       "  </tbody>\n",
       "</table>\n",
       "</div>"
      ],
      "text/plain": [
       "   PassengerId  Pclass   Age  SibSp  Parch     Fare  male  Q  S\n",
       "0          892       3  34.5      0      0   7.8292     1  1  0\n",
       "1          893       3  47.0      1      0   7.0000     0  0  1\n",
       "2          894       2  62.0      0      0   9.6875     1  1  0\n",
       "3          895       3  27.0      0      0   8.6625     1  0  1\n",
       "4          896       3  22.0      1      1  12.2875     0  0  1"
      ]
     },
     "execution_count": 26,
     "metadata": {},
     "output_type": "execute_result"
    }
   ],
   "source": [
    "test.head()"
   ]
  },
  {
   "cell_type": "code",
   "execution_count": 27,
   "id": "2d190b91",
   "metadata": {},
   "outputs": [],
   "source": [
    "x_final = test.drop(['PassengerId'], axis=1)"
   ]
  },
  {
   "cell_type": "code",
   "execution_count": 28,
   "id": "1b3c32d0",
   "metadata": {},
   "outputs": [
    {
     "name": "stdout",
     "output_type": "stream",
     "text": [
      "<class 'pandas.core.frame.DataFrame'>\n",
      "Int64Index: 417 entries, 0 to 417\n",
      "Data columns (total 8 columns):\n",
      " #   Column  Non-Null Count  Dtype  \n",
      "---  ------  --------------  -----  \n",
      " 0   Pclass  417 non-null    int64  \n",
      " 1   Age     417 non-null    float64\n",
      " 2   SibSp   417 non-null    int64  \n",
      " 3   Parch   417 non-null    int64  \n",
      " 4   Fare    417 non-null    float64\n",
      " 5   male    417 non-null    uint8  \n",
      " 6   Q       417 non-null    uint8  \n",
      " 7   S       417 non-null    uint8  \n",
      "dtypes: float64(2), int64(3), uint8(3)\n",
      "memory usage: 20.8 KB\n"
     ]
    }
   ],
   "source": [
    "x_final.info()"
   ]
  },
  {
   "cell_type": "code",
   "execution_count": 29,
   "id": "4c8ca354",
   "metadata": {},
   "outputs": [
    {
     "data": {
      "text/html": [
       "<div>\n",
       "<style scoped>\n",
       "    .dataframe tbody tr th:only-of-type {\n",
       "        vertical-align: middle;\n",
       "    }\n",
       "\n",
       "    .dataframe tbody tr th {\n",
       "        vertical-align: top;\n",
       "    }\n",
       "\n",
       "    .dataframe thead th {\n",
       "        text-align: right;\n",
       "    }\n",
       "</style>\n",
       "<table border=\"1\" class=\"dataframe\">\n",
       "  <thead>\n",
       "    <tr style=\"text-align: right;\">\n",
       "      <th></th>\n",
       "      <th>Pclass</th>\n",
       "      <th>Age</th>\n",
       "      <th>SibSp</th>\n",
       "      <th>Parch</th>\n",
       "      <th>Fare</th>\n",
       "      <th>male</th>\n",
       "      <th>Q</th>\n",
       "      <th>S</th>\n",
       "    </tr>\n",
       "  </thead>\n",
       "  <tbody>\n",
       "    <tr>\n",
       "      <th>0</th>\n",
       "      <td>3</td>\n",
       "      <td>34.5</td>\n",
       "      <td>0</td>\n",
       "      <td>0</td>\n",
       "      <td>7.8292</td>\n",
       "      <td>1</td>\n",
       "      <td>1</td>\n",
       "      <td>0</td>\n",
       "    </tr>\n",
       "    <tr>\n",
       "      <th>1</th>\n",
       "      <td>3</td>\n",
       "      <td>47.0</td>\n",
       "      <td>1</td>\n",
       "      <td>0</td>\n",
       "      <td>7.0000</td>\n",
       "      <td>0</td>\n",
       "      <td>0</td>\n",
       "      <td>1</td>\n",
       "    </tr>\n",
       "    <tr>\n",
       "      <th>2</th>\n",
       "      <td>2</td>\n",
       "      <td>62.0</td>\n",
       "      <td>0</td>\n",
       "      <td>0</td>\n",
       "      <td>9.6875</td>\n",
       "      <td>1</td>\n",
       "      <td>1</td>\n",
       "      <td>0</td>\n",
       "    </tr>\n",
       "    <tr>\n",
       "      <th>3</th>\n",
       "      <td>3</td>\n",
       "      <td>27.0</td>\n",
       "      <td>0</td>\n",
       "      <td>0</td>\n",
       "      <td>8.6625</td>\n",
       "      <td>1</td>\n",
       "      <td>0</td>\n",
       "      <td>1</td>\n",
       "    </tr>\n",
       "    <tr>\n",
       "      <th>4</th>\n",
       "      <td>3</td>\n",
       "      <td>22.0</td>\n",
       "      <td>1</td>\n",
       "      <td>1</td>\n",
       "      <td>12.2875</td>\n",
       "      <td>0</td>\n",
       "      <td>0</td>\n",
       "      <td>1</td>\n",
       "    </tr>\n",
       "  </tbody>\n",
       "</table>\n",
       "</div>"
      ],
      "text/plain": [
       "   Pclass   Age  SibSp  Parch     Fare  male  Q  S\n",
       "0       3  34.5      0      0   7.8292     1  1  0\n",
       "1       3  47.0      1      0   7.0000     0  0  1\n",
       "2       2  62.0      0      0   9.6875     1  1  0\n",
       "3       3  27.0      0      0   8.6625     1  0  1\n",
       "4       3  22.0      1      1  12.2875     0  0  1"
      ]
     },
     "execution_count": 29,
     "metadata": {},
     "output_type": "execute_result"
    }
   ],
   "source": [
    "x_final.head()"
   ]
  },
  {
   "cell_type": "code",
   "execution_count": 31,
   "id": "043cf6c4",
   "metadata": {},
   "outputs": [],
   "source": [
    "scaler = SS()\n",
    "scaler.fit(x)\n",
    "scaled_features = scaler.transform(x)\n",
    "\n",
    "x_train, x_test, y_train, y_test = tts(scaled_features, y, test_size=0.33, random_state=101)\n",
    "\n",
    "n_neighbors = 13\n",
    "a = n_neighbors\n",
    "\n",
    "knn_f = KNC(a)\n",
    "knn_f.fit(x_train, y_train)\n",
    "\n",
    "scaler = SS()\n",
    "scaler.fit(x_final)\n",
    "scaled_features_f = scaler.transform(x_final)\n",
    "\n",
    "final_pred = knn_f.predict(scaled_features_f)"
   ]
  },
  {
   "cell_type": "markdown",
   "id": "ca46df05",
   "metadata": {},
   "source": [
    "## 9. Submission"
   ]
  },
  {
   "cell_type": "code",
   "execution_count": 37,
   "id": "da719993",
   "metadata": {},
   "outputs": [],
   "source": [
    "submission = pd.DataFrame()\n",
    "submission['PassengerId'] = test['PassengerId']\n",
    "submission['Survived'] = final_pred\n",
    "submission.to_csv('Model_S&P.csv', index=False)"
   ]
  }
 ],
 "metadata": {
  "kernelspec": {
   "display_name": "Python 3 (ipykernel)",
   "language": "python",
   "name": "python3"
  },
  "language_info": {
   "codemirror_mode": {
    "name": "ipython",
    "version": 3
   },
   "file_extension": ".py",
   "mimetype": "text/x-python",
   "name": "python",
   "nbconvert_exporter": "python",
   "pygments_lexer": "ipython3",
   "version": "3.9.12"
  }
 },
 "nbformat": 4,
 "nbformat_minor": 5
}
